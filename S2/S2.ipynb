{
 "cells": [
  {
   "cell_type": "code",
   "execution_count": 1,
   "metadata": {},
   "outputs": [],
   "source": [
    "import subprocess\n",
    "import sys\n",
    "\n",
    "try:\n",
    "    import memory_profiler\n",
    "except ImportError:\n",
    "    subprocess.check_call([sys.executable, \"-m\", \"pip\", \"install\", 'memory-profiler'])\n",
    "finally:\n",
    "    import memory_profiler\n",
    "\n",
    "from memory_profiler import memory_usage\n",
    "import pytest\n",
    "import time\n",
    "import os.path\n",
    "import re\n",
    "import inspect\n",
    "from typing import List\n",
    "import time"
   ]
  },
  {
   "cell_type": "code",
   "execution_count": 103,
   "metadata": {},
   "outputs": [],
   "source": [
    "# KINDLY GO THROUGH TEST FILE TO UNDERSTAND\n",
    "from typing import List\n",
    "import time\n",
    "\n",
    "# Here in this code we will be leaking memory because we are creating cyclic reference.\n",
    "# Find that we are indeed making cyclic references.\n",
    "# Eventually memory will be released, but that is currently not happening immediately.\n",
    "# We have added a function called \"clear_memory\" but it is not able to do it's job. Fix it.\n",
    "# Refer to test_clear_memory Test in test_session2.py to see how we're crudely finding that\n",
    "# this code is sub-optimal.\n",
    "class Something(object):\n",
    "\n",
    "    def __init__(self,i):\n",
    "        super().__init__()\n",
    "        self.something_new = SomethingNew(i, self)\n",
    "        #print(f'something self: {hex(id(self))}, something.something_new: {hex(id(self.something_new))}')\n",
    "\n",
    "class SomethingNew(object):\n",
    "\n",
    "    def __init__(self, i: int = 0, something: Something = None):\n",
    "        super().__init__()\n",
    "        self.i = i\n",
    "        self.something = something\n",
    "        #print(f'something_new self{hex(id(self))}, something_new.something: {hex(id(self.something))}, something_new.i: {hex(id(self.i))}')\n",
    "\n",
    "\n",
    "def add_something(collection: List[Something], i: int):\n",
    "    my_var = Something(i)\n",
    "    #something.something_new = SomethingNew(i, something)\n",
    "    collection.append(my_var)\n",
    "\n",
    "def reserved_function():\n",
    "    # to be used in future if required\n",
    "    pass\n",
    "\n",
    "def clear_memory(collection: List[Something]):\n",
    "    # you probably need to add some comment here\n",
    "    #print(\"1 collection\", collection)\n",
    "    for item in collection:\n",
    "        del item.something_new\n",
    "    collection.clear()\n",
    "    #print(\"2\",collection)\n",
    "    #gc.collect()\n",
    "\n",
    "\n",
    "def critical_function():\n",
    "    collection = list()\n",
    "    for i in range(1, 1024 * 128):\n",
    "    #for i in range(1, 4):\n",
    "        add_something(collection, i)\n",
    "    #print(len(collection))\n",
    "    clear_memory(collection)"
   ]
  },
  {
   "cell_type": "code",
   "execution_count": 24,
   "metadata": {},
   "outputs": [],
   "source": [
    "# Here we are suboptimally testing whether two strings are exactly same or not\n",
    "# After that we are trying to see if we have a particular character in that string or not\n",
    "# Currently the code is suboptimal. Write it in such a way that it takes 1/10 the current time\n",
    "\n",
    "# DO NOT CHANGE THIS PROGRAM\n",
    "def compare_strings_old(n):\n",
    "    a = 'a long string that is not intered' * 200\n",
    "    b = 'a long string that is not intered' * 200\n",
    "    for i in range(n):\n",
    "        if a == b:\n",
    "            pass\n",
    "    char_list = list(a)\n",
    "    for i in range(n):\n",
    "        if 'd' in char_list:\n",
    "            pass\n",
    "\n",
    "# Trial 1 Removing the for loop\n",
    "'''\n",
    "def compare_strings_new(n):\n",
    "    a = 'a long string that is not intered' * 200\n",
    "    b = 'a long string that is not intered' * 200\n",
    "    #for i in range(n):\n",
    "    if a == b:\n",
    "        #print(\"True\")\n",
    "        pass\n",
    "    #char_list = list(a)\n",
    "    #for i in range(n):\n",
    "    if'd' in a:\n",
    "        pass\n",
    "    #time.sleep(6) # remove this line, this is just to simulate your \"slow\" code\n",
    "'''\n",
    "# Trial 2 Using sys.itern \n",
    "def compare_strings_new(n):\n",
    "    a = sys.intern('a long string that is not intered' * 200)\n",
    "    b = sys.intern('a long string that is not intered' * 200)\n",
    "    char_set = set(a)\n",
    "    for i in range(n):\n",
    "        if a is b:\n",
    "            pass\n",
    "        if 'd' in char_set:\n",
    "            pass"
   ]
  },
  {
   "cell_type": "code",
   "execution_count": 25,
   "metadata": {},
   "outputs": [],
   "source": [
    "def test_performance():\n",
    "    start1 = time.perf_counter()\n",
    "    print(\"start1\", start1)\n",
    "    compare_strings_old(10000000)\n",
    "    end1 = time.perf_counter()\n",
    "    delta1 = end1 - start1\n",
    "    print(\"del1\", delta1)\n",
    "\n",
    "    start2 = time.perf_counter()\n",
    "    compare_strings_new(10000000)\n",
    "    end2 = time.perf_counter()\n",
    "    delta2 = end2 - start2\n",
    "    print(\"del2\", delta2)\n",
    "    \n",
    "    print(delta1/delta2)\n",
    "\n",
    "    assert delta1 / delta2 >= 10.0"
   ]
  },
  {
   "cell_type": "code",
   "execution_count": 26,
   "metadata": {},
   "outputs": [
    {
     "name": "stdout",
     "output_type": "stream",
     "text": [
      "start1 1.7e-06\n",
      "del1 91.7911313\n",
      "del2 4.861266999999998\n",
      "18.88214148698272\n"
     ]
    }
   ],
   "source": [
    "test_performance()\n",
    "#"
   ]
  },
  {
   "cell_type": "code",
   "execution_count": 105,
   "metadata": {},
   "outputs": [],
   "source": [
    "memory_used = []\n",
    "def test_clear_memory():\n",
    "    memory_used = memory_usage((critical_function))\n",
    "    print(\"len(m/m used), max(memory_used)\", len(memory_used), max(memory_used))\n",
    "    #print((memory_used[len(memory_used) - 1] - memory_used[0]))\n",
    "    assert (memory_used[len(memory_used) - 1] - memory_used[0]) < 4\n",
    "\n",
    "\n",
    "def test_memory_actually_increased():\n",
    "    # This test will check whether we are actually increase the memory during running the function f\n",
    "    memory_used2 = memory_usage((critical_function))\n",
    "    print(\"len(m/m used2), max(memory_used2)\", len(memory_used2), max(memory_used2))\n",
    "    peak = max(memory_used2)\n",
    "   # print(peak - memory_used2[0])\n",
    "    assert (peak - memory_used2[0]) > 8, \"Seems like you have changed the program! Are you trying to cheat!\""
   ]
  },
  {
   "cell_type": "code",
   "execution_count": 108,
   "metadata": {},
   "outputs": [
    {
     "name": "stdout",
     "output_type": "stream",
     "text": [
      "Help on NoneType object:\n",
      "\n",
      "class NoneType(object)\n",
      " |  Methods defined here:\n",
      " |  \n",
      " |  __bool__(self, /)\n",
      " |      self != 0\n",
      " |  \n",
      " |  __new__(*args, **kwargs) from builtins.type\n",
      " |      Create and return a new object.  See help(type) for accurate signature.\n",
      " |  \n",
      " |  __repr__(self, /)\n",
      " |      Return repr(self).\n",
      "\n"
     ]
    }
   ],
   "source": [
    "help(critical_function())"
   ]
  },
  {
   "cell_type": "code",
   "execution_count": 107,
   "metadata": {},
   "outputs": [
    {
     "name": "stdout",
     "output_type": "stream",
     "text": [
      "len(m/m used), max(memory_used) 38 107.4296875\n",
      "len(m/m used2), max(memory_used2) 14 107.43359375\n"
     ]
    }
   ],
   "source": [
    "test_clear_memory()\n",
    "test_memory_actually_increased()"
   ]
  },
  {
   "cell_type": "code",
   "execution_count": 33,
   "metadata": {},
   "outputs": [],
   "source": [
    "class Something(object):\n",
    "\n",
    "    def __init__(self):\n",
    "        super().__init__()\n",
    "        self.something_new = SomethingNew(1, self)\n",
    "        print(f'something self: {hex(id(self))}, something.something_new: {hex(id(self.something_new))}')\n",
    "\n",
    "\n",
    "class SomethingNew(object):\n",
    "\n",
    "    def __init__(self, i: int = 0, something: Something = None):\n",
    "        super().__init__()\n",
    "        self.i = i\n",
    "        self.something = something\n",
    "        print(f'something_new self{hex(id(self))}, something_new.something: {hex(id(self.something))}, something_new.i: {hex(id(self.i))}')\n",
    "        #print(self.i)"
   ]
  },
  {
   "cell_type": "code",
   "execution_count": 34,
   "metadata": {},
   "outputs": [
    {
     "name": "stdout",
     "output_type": "stream",
     "text": [
      "something_new self0x26c79daecf8, something_new.something: 0x26c79daeeb8, something_new.i: 0x63d56c40\n",
      "something self: 0x26c79daeeb8, something.something_new: 0x26c79daecf8\n"
     ]
    }
   ],
   "source": [
    "something = Something()\n",
    "#something.something_new = SomethingNew(1, something)"
   ]
  },
  {
   "cell_type": "code",
   "execution_count": 116,
   "metadata": {},
   "outputs": [],
   "source": [
    "a = \"prema\"\n",
    "if 'p' in a:\n",
    "    pass"
   ]
  },
  {
   "cell_type": "code",
   "execution_count": 17,
   "metadata": {},
   "outputs": [],
   "source": [
    "class Something(object):\n",
    "    def __init__(self):\n",
    "        super().__init__()\n",
    "        self.something_new = None\n",
    "        # print(f'something self: {hex(id(self))}, something.something_new: {hex(id(self.something_new))}')\n",
    "        # Print Function used to assert indeed an cyclic reference is created\n",
    "\n",
    "class SomethingNew(object):\n",
    "    def __init__(self, i: int = 0, something: Something = None):\n",
    "        super().__init__()\n",
    "        self.i = i\n",
    "        self.something = something\n",
    "        # print(f'something_new self{hex(id(self))}, something_new.something: {hex(id(self.something))}, something_new.i: {hex(id(self.i))}')\n",
    "        # Print Function used to assert indeed an cyclic reference is created"
   ]
  },
  {
   "cell_type": "code",
   "execution_count": 21,
   "metadata": {},
   "outputs": [],
   "source": [
    "def add_something(collection: List[Something], i: int):\n",
    "    something = Something()\n",
    "    something.something_new = SomethingNew(i,something)\n",
    "    collection.append(something)\n",
    "def reserved_function():\n",
    "    # to be used in future if required\n",
    "    pass\n",
    "\n",
    "def clear_memory(collection: List[Something]):\n",
    "    # you probably need to add some comment here\n",
    "    #print(\"1 collection\", collection)\n",
    "    for item in collection:\n",
    "        del item.something_new\n",
    "    collection.clear()\n",
    "    #print(\"2\",collection)\n",
    "    #gc.collect()\n",
    "\n",
    "\n",
    "def critical_function():\n",
    "    collection = list()\n",
    "    for i in range(1, 1024 * 128):\n",
    "    #for i in range(1, 4):\n",
    "        add_something(collection, i)\n",
    "    #print(len(collection))\n",
    "    clear_memory(collection)"
   ]
  },
  {
   "cell_type": "code",
   "execution_count": 22,
   "metadata": {},
   "outputs": [],
   "source": [
    "memory_used = []\n",
    "def test_clear_memory():\n",
    "    memory_used = memory_usage((critical_function))\n",
    "    print(\"len(m/m used), max(memory_used)\", len(memory_used), max(memory_used))\n",
    "    #print((memory_used[len(memory_used) - 1] - memory_used[0]))\n",
    "    assert (memory_used[len(memory_used) - 1] - memory_used[0]) < 4\n",
    "\n",
    "\n",
    "def test_memory_actually_increased():\n",
    "    # This test will check whether we are actually increase the memory during running the function f\n",
    "    memory_used2 = memory_usage((critical_function))\n",
    "    print(\"len(m/m used2), max(memory_used2)\", len(memory_used2), max(memory_used2))\n",
    "    peak = max(memory_used2)\n",
    "   # print(peak - memory_used2[0])\n",
    "    assert (peak - memory_used2[0]) > 8, \"Seems like you have changed the program! Are you trying to cheat!\""
   ]
  },
  {
   "cell_type": "code",
   "execution_count": 23,
   "metadata": {},
   "outputs": [
    {
     "name": "stdout",
     "output_type": "stream",
     "text": [
      "len(m/m used), max(memory_used) 29 104.34765625\n",
      "len(m/m used2), max(memory_used2) 50 117.17578125\n"
     ]
    }
   ],
   "source": [
    "test_clear_memory()\n",
    "test_memory_actually_increased()"
   ]
  },
  {
   "cell_type": "code",
   "execution_count": 27,
   "metadata": {},
   "outputs": [],
   "source": [
    "# KINDLY GO THROUGH TEST FILE TO UNDERSTAND\n",
    "from typing import List\n",
    "import time\n",
    "import sys\n",
    "\n",
    "# Here in this code we will be leaking memory because we are creating cyclic reference.\n",
    "# Find that we are indeed making cyclic references.\n",
    "# Eventually memory will be released, but that is currently not happening immediately.\n",
    "# We have added a function called \"clear_memory\" but it is not able to do it's job. Fix it.\n",
    "# Refer to test_clear_memory Test in test_session2.py to see how we're crudely finding that\n",
    "# this code is sub-optimal.\n",
    "class Something(object):\n",
    "    def __init__(self):\n",
    "        super().__init__()\n",
    "        self.something_new = None\n",
    "        # print(f'something self: {hex(id(self))}, something.something_new: {hex(id(self.something_new))}')\n",
    "        # Print Function used to assert indeed an cyclic reference is created\n",
    "\n",
    "class SomethingNew(object):\n",
    "    def __init__(self, i: int = 0, something: Something = None):\n",
    "        super().__init__()\n",
    "        self.i = i\n",
    "        self.something = something\n",
    "        # print(f'something_new self{hex(id(self))}, something_new.something: {hex(id(self.something))}, something_new.i: {hex(id(self.i))}')\n",
    "        # Print Function used to assert indeed an cyclic reference is created\n",
    "\n",
    "def add_something(collection: List[Something], i: int):\n",
    "    something = Something()\n",
    "    something.something_new = SomethingNew(i,something)\n",
    "    collection.append(something)\n",
    "\n",
    "def reserved_function():\n",
    "    # to be used in future if required\n",
    "    pass\n",
    "\n",
    "def clear_memory(collection: List[Something]):\n",
    "    # clearing the memory of the cyclic object instead of just the list elements\n",
    "    for item in collection:\n",
    "        del item.something_new\n",
    "    collection.clear()\n",
    "\n",
    "\n",
    "def critical_function():\n",
    "    collection = list()\n",
    "    for i in range(1, 1024 * 128):\n",
    "        add_something(collection, i)\n",
    "    clear_memory(collection)\n",
    "\n",
    "\n",
    "# Here we are suboptimally testing whether two strings are exactly same or not\n",
    "# After that we are trying to see if we have a particular character in that string or not\n",
    "# Currently the code is suboptimal. Write it in such a way that it takes 1/10 the current time\n",
    "\n",
    "# DO NOT CHANGE THIS PROGRAM\n",
    "def compare_strings_old(n):\n",
    "    a = 'a long string that is not intered' * 200\n",
    "    b = 'a long string that is not intered' * 200\n",
    "    for i in range(n):\n",
    "        if a == b:\n",
    "            pass\n",
    "    char_list = list(a)\n",
    "    for i in range(n):\n",
    "        if 'd' in char_list:\n",
    "            pass\n",
    "\n",
    "# YOU NEED TO CHANGE THIS PROGRAM\n",
    "def compare_strings_new(n):\n",
    "    a = sys.intern('a long string that is not intered' * 200)\n",
    "    b = sys.intern('a long string that is not intered' * 200)\n",
    "    char_set = set(a)\n",
    "    for i in range(n):\n",
    "        if a is b:\n",
    "            pass\n",
    "        if 'd' in char_set:\n",
    "            pass"
   ]
  },
  {
   "cell_type": "code",
   "execution_count": 36,
   "metadata": {},
   "outputs": [],
   "source": [
    "def test_class_repr():\n",
    "    s = Something()\n",
    "    s_n = SomethingNew()\n",
    "    print(s.__repr__())\n",
    "    print(s_n.__repr__())\n",
    "    print('object at' not in s.__repr__())\n",
    "    assert 'object at' not in s.__repr__() and 'object at' not in s_n.__repr__()"
   ]
  },
  {
   "cell_type": "code",
   "execution_count": 37,
   "metadata": {},
   "outputs": [
    {
     "name": "stdout",
     "output_type": "stream",
     "text": [
      "<__main__.Something object at 0x000002702C6F76D8>\n",
      "<__main__.SomethingNew object at 0x000002702C6F7BE0>\n",
      "False\n"
     ]
    },
    {
     "ename": "AssertionError",
     "evalue": "",
     "output_type": "error",
     "traceback": [
      "\u001b[1;31m---------------------------------------------------------------------------\u001b[0m",
      "\u001b[1;31mAssertionError\u001b[0m                            Traceback (most recent call last)",
      "\u001b[1;32m<ipython-input-37-f66f56086318>\u001b[0m in \u001b[0;36m<module>\u001b[1;34m()\u001b[0m\n\u001b[1;32m----> 1\u001b[1;33m \u001b[0mtest_class_repr\u001b[0m\u001b[1;33m(\u001b[0m\u001b[1;33m)\u001b[0m\u001b[1;33m\u001b[0m\u001b[0m\n\u001b[0m",
      "\u001b[1;32m<ipython-input-36-ae733d65ba01>\u001b[0m in \u001b[0;36mtest_class_repr\u001b[1;34m()\u001b[0m\n\u001b[0;32m      5\u001b[0m     \u001b[0mprint\u001b[0m\u001b[1;33m(\u001b[0m\u001b[0ms_n\u001b[0m\u001b[1;33m.\u001b[0m\u001b[0m__repr__\u001b[0m\u001b[1;33m(\u001b[0m\u001b[1;33m)\u001b[0m\u001b[1;33m)\u001b[0m\u001b[1;33m\u001b[0m\u001b[0m\n\u001b[0;32m      6\u001b[0m     \u001b[0mprint\u001b[0m\u001b[1;33m(\u001b[0m\u001b[1;34m'object at'\u001b[0m \u001b[1;32mnot\u001b[0m \u001b[1;32min\u001b[0m \u001b[0ms\u001b[0m\u001b[1;33m.\u001b[0m\u001b[0m__repr__\u001b[0m\u001b[1;33m(\u001b[0m\u001b[1;33m)\u001b[0m\u001b[1;33m)\u001b[0m\u001b[1;33m\u001b[0m\u001b[0m\n\u001b[1;32m----> 7\u001b[1;33m     \u001b[1;32massert\u001b[0m \u001b[1;34m'object at'\u001b[0m \u001b[1;32mnot\u001b[0m \u001b[1;32min\u001b[0m \u001b[0ms\u001b[0m\u001b[1;33m.\u001b[0m\u001b[0m__repr__\u001b[0m\u001b[1;33m(\u001b[0m\u001b[1;33m)\u001b[0m \u001b[1;32mand\u001b[0m \u001b[1;34m'object at'\u001b[0m \u001b[1;32mnot\u001b[0m \u001b[1;32min\u001b[0m \u001b[0ms_n\u001b[0m\u001b[1;33m.\u001b[0m\u001b[0m__repr__\u001b[0m\u001b[1;33m(\u001b[0m\u001b[1;33m)\u001b[0m\u001b[1;33m\u001b[0m\u001b[0m\n\u001b[0m",
      "\u001b[1;31mAssertionError\u001b[0m: "
     ]
    }
   ],
   "source": [
    "test_class_repr()"
   ]
  },
  {
   "cell_type": "code",
   "execution_count": 35,
   "metadata": {},
   "outputs": [
    {
     "ename": "NameError",
     "evalue": "name 's' is not defined",
     "output_type": "error",
     "traceback": [
      "\u001b[1;31m---------------------------------------------------------------------------\u001b[0m",
      "\u001b[1;31mNameError\u001b[0m                                 Traceback (most recent call last)",
      "\u001b[1;32m<ipython-input-35-83d5ed56e89b>\u001b[0m in \u001b[0;36m<module>\u001b[1;34m()\u001b[0m\n\u001b[1;32m----> 1\u001b[1;33m \u001b[1;34m'object at'\u001b[0m \u001b[1;32mnot\u001b[0m \u001b[1;32min\u001b[0m \u001b[0ms\u001b[0m\u001b[1;33m.\u001b[0m\u001b[0m__repr__\u001b[0m\u001b[1;33m(\u001b[0m\u001b[1;33m)\u001b[0m\u001b[1;33m\u001b[0m\u001b[0m\n\u001b[0m",
      "\u001b[1;31mNameError\u001b[0m: name 's' is not defined"
     ]
    }
   ],
   "source": [
    "'object at' not in s.__repr__()"
   ]
  },
  {
   "cell_type": "code",
   "execution_count": null,
   "metadata": {},
   "outputs": [],
   "source": []
  }
 ],
 "metadata": {
  "kernelspec": {
   "display_name": "Python 3",
   "language": "python",
   "name": "python3"
  },
  "language_info": {
   "codemirror_mode": {
    "name": "ipython",
    "version": 3
   },
   "file_extension": ".py",
   "mimetype": "text/x-python",
   "name": "python",
   "nbconvert_exporter": "python",
   "pygments_lexer": "ipython3",
   "version": "3.8.3"
  }
 },
 "nbformat": 4,
 "nbformat_minor": 2
}
